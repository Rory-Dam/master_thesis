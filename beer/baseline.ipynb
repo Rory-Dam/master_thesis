{
 "cells": [
  {
   "cell_type": "code",
   "execution_count": 2,
   "metadata": {},
   "outputs": [],
   "source": [
    "import numpy as np\n",
    "import pandas as pd"
   ]
  },
  {
   "cell_type": "code",
   "execution_count": 94,
   "metadata": {},
   "outputs": [
    {
     "data": {
      "text/plain": [
       "((175, 231), (175, 50), (75, 231), (75, 50))"
      ]
     },
     "execution_count": 94,
     "metadata": {},
     "output_type": "execute_result"
    }
   ],
   "source": [
    "df_train_X = pd.read_csv('../data/beer_features_train.csv', index_col=0)\n",
    "df_train_y = pd.read_csv('../data/beer_labels_panel_train.csv', index_col=0)\n",
    "df_test_X = pd.read_csv('../data/beer_features_test.csv', index_col=0)\n",
    "df_test_y = pd.read_csv('../data/beer_labels_panel_test.csv', index_col=0)\n",
    "\n",
    "df_train_X.shape, df_train_y.shape, df_test_X.shape, df_test_y.shape"
   ]
  },
  {
   "cell_type": "code",
   "execution_count": 95,
   "metadata": {},
   "outputs": [],
   "source": [
    "train_X = df_train_X.values\n",
    "train_y = df_train_y.values\n",
    "test_X = df_test_X.values\n",
    "test_y = df_test_y.values"
   ]
  },
  {
   "cell_type": "code",
   "execution_count": 96,
   "metadata": {},
   "outputs": [
    {
     "data": {
      "text/plain": [
       "-2.580113937141425"
      ]
     },
     "execution_count": 96,
     "metadata": {},
     "output_type": "execute_result"
    }
   ],
   "source": [
    "train_X.min()\n",
    "train_y.min()\n",
    "test_X.min()\n",
    "test_y.min()"
   ]
  },
  {
   "cell_type": "code",
   "execution_count": 104,
   "metadata": {},
   "outputs": [
    {
     "name": "stdout",
     "output_type": "stream",
     "text": [
      "Mean MAE :  0.692709\n",
      "Mean R-squared : -0.138461\n",
      "Mean MAE :  0.678816\n",
      "Mean R-squared :  0.099380\n",
      "Mean MAE :  0.647242\n",
      "Mean R-squared : -0.075323\n",
      "Mean MAE :  0.690687\n",
      "Mean R-squared : -0.080038\n",
      "Mean MAE :  0.631824\n",
      "Mean R-squared : -0.020043\n"
     ]
    }
   ],
   "source": [
    "import xgboost as xgb\n",
    "from sklearn.metrics import mean_absolute_error as MAE\n",
    "from sklearn.metrics import r2_score\n",
    "from sklearn.model_selection import KFold\n",
    "\n",
    "models = []\n",
    "\n",
    "kf = KFold(n_splits=5, shuffle=True, random_state=42)\n",
    "\n",
    "for fold, (train_idx, val_idx) in enumerate(kf.split(train_X, train_y)):\n",
    "    xgb_regressor = xgb.XGBRegressor(tree_method='hist', seed=42)\n",
    "\n",
    "    fold_train_X, fold_val_X = train_X[train_idx], train_X[val_idx]\n",
    "    fold_train_y, fold_val_y = train_y[train_idx], train_y[val_idx]\n",
    "\n",
    "    # Fitting the model\n",
    "    xgb_regressor.fit(fold_train_X, fold_train_y)\n",
    "\n",
    "    # Predict the model\n",
    "    pred = xgb_regressor.predict(fold_val_X)\n",
    "\n",
    "    mae = MAE(fold_val_y, pred)\n",
    "    r2 = r2_score(fold_val_y, pred)\n",
    "    # ap = AP(fold_val_y, pred)\n",
    "\n",
    "\n",
    "    print(\"Mean MAE : % f\" % mae)\n",
    "    print(\"Mean R-squared : % f\" % r2)\n",
    "    # print(\"Mean Average Precision : % f\" % ap)\n",
    "    models.append(xgb_regressor)"
   ]
  },
  {
   "cell_type": "code",
   "execution_count": 105,
   "metadata": {},
   "outputs": [
    {
     "name": "stdout",
     "output_type": "stream",
     "text": [
      "(75, 50)\n",
      "(75, 50)\n",
      "(75, 50)\n",
      "(75, 50)\n",
      "(75, 50)\n"
     ]
    }
   ],
   "source": [
    "preds = []\n",
    "for model in models:\n",
    "    pred = model.predict(test_X)\n",
    "    print(pred.shape)\n",
    "    preds.append(pred)\n",
    "\n",
    "preds = np.array(preds)"
   ]
  },
  {
   "cell_type": "code",
   "execution_count": 107,
   "metadata": {},
   "outputs": [
    {
     "name": "stdout",
     "output_type": "stream",
     "text": [
      "Mean MAE :  0.638011\n",
      "Mean R-squared :  0.206903\n"
     ]
    }
   ],
   "source": [
    "for pred in [np.mean(preds, axis=0)]:\n",
    "    mae = MAE(test_y, pred)\n",
    "    r2 = r2_score(test_y, pred)\n",
    "    # ap = AP(fold_val_y, pred)\n",
    "\n",
    "\n",
    "    print(\"Mean MAE : % f\" % mae)\n",
    "    print(\"Mean R-squared : % f\" % r2)\n",
    "    # print(\"Mean Average Precision : % f\" % ap)"
   ]
  },
  {
   "cell_type": "code",
   "execution_count": null,
   "metadata": {},
   "outputs": [],
   "source": []
  }
 ],
 "metadata": {
  "kernelspec": {
   "display_name": "Python 3",
   "language": "python",
   "name": "python3"
  },
  "language_info": {
   "codemirror_mode": {
    "name": "ipython",
    "version": 3
   },
   "file_extension": ".py",
   "mimetype": "text/x-python",
   "name": "python",
   "nbconvert_exporter": "python",
   "pygments_lexer": "ipython3",
   "version": "3.11.1"
  }
 },
 "nbformat": 4,
 "nbformat_minor": 2
}
