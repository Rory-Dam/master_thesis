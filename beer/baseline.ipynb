{
 "cells": [
  {
   "cell_type": "code",
   "execution_count": 1,
   "metadata": {},
   "outputs": [],
   "source": [
    "import numpy as np\n",
    "import pandas as pd"
   ]
  },
  {
   "cell_type": "code",
   "execution_count": 5,
   "metadata": {},
   "outputs": [],
   "source": [
    "AROMA = ['A_malt_all', 'A_malt_grain', 'A_malt_bread', 'A_malt_cara',\n",
    "'A_malt_burn', 'A_hops_all', 'A_hops_citrus', 'A_hops_tropical',\n",
    "'A_hops_noble', 'A_hops_woody', 'A_esters_all', 'A_esters_ethac',\n",
    "'A_esters_isoaa', 'A_esters_flower', 'A_esters_fruity']\n",
    "\n",
    "FLAVOUR = ['F_malt_all', 'F_malt_grain', 'F_malt_bread', 'F_malt_cara',\n",
    "'F_malt_burn', 'F_hops_all', 'F_hops_citrus', 'F_hops_tropical',\n",
    "'F_hops_noble', 'F_hops_woody', 'F_esters_all', 'F_esters_ethac',\n",
    "'F_esters_isoaa', 'F_esters_flower', 'F_esters_fruity']\n",
    "\n",
    "BOTH = ['A_malt_all', 'A_malt_grain', 'A_malt_bread', 'A_malt_cara',\n",
    "'A_malt_burn', 'A_hops_all', 'A_hops_citrus', 'A_hops_tropical',\n",
    "'A_hops_noble', 'A_hops_woody', 'A_esters_all', 'A_esters_ethac',\n",
    "'A_esters_isoaa', 'A_esters_flower', 'A_esters_fruity', 'F_malt_all',\n",
    "'F_malt_grain', 'F_malt_bread', 'F_malt_cara', 'F_malt_burn',\n",
    "'F_hops_all', 'F_hops_citrus', 'F_hops_tropical', 'F_hops_noble',\n",
    "'F_hops_woody', 'F_esters_all', 'F_esters_ethac', 'F_esters_isoaa',\n",
    "'F_esters_flower', 'F_esters_fruity']\n",
    "\n",
    "REST = ['acidity', 'bitternes','sweetness', 'X4vg', 'diacetyl', 'dms',\n",
    "'metallic', 'stale_hops', 't2n', 'orange', 'coriander', 'clove', 'lactic',\n",
    "'acetic', 'barnyard', 'alcohol', 'aftertaste', 'body', 'co2', 'overall']\n",
    "\n",
    "ALL = ['A_malt_all', 'A_malt_grain', 'A_malt_bread', 'A_malt_cara',\n",
    "'A_malt_burn', 'A_hops_all', 'A_hops_citrus', 'A_hops_tropical',\n",
    "'A_hops_noble', 'A_hops_woody', 'A_esters_all', 'A_esters_ethac',\n",
    "'A_esters_isoaa', 'A_esters_flower', 'A_esters_fruity', 'F_malt_all',\n",
    "'F_malt_grain', 'F_malt_bread', 'F_malt_cara', 'F_malt_burn',\n",
    "'F_hops_all', 'F_hops_citrus', 'F_hops_tropical', 'F_hops_noble',\n",
    "'F_hops_woody', 'F_esters_all', 'F_esters_ethac', 'F_esters_isoaa',\n",
    "'F_esters_flower', 'F_esters_fruity', 'acidity', 'bitternes',\n",
    "'sweetness', 'X4vg', 'diacetyl', 'dms', 'metallic', 'stale_hops', 't2n',\n",
    "'orange', 'coriander', 'clove', 'lactic', 'acetic', 'barnyard',\n",
    "'alcohol', 'aftertaste', 'body', 'co2', 'overall']"
   ]
  },
  {
   "cell_type": "code",
   "execution_count": 79,
   "metadata": {},
   "outputs": [],
   "source": [
    "LABEL_COLS = ['overall']"
   ]
  },
  {
   "cell_type": "code",
   "execution_count": 80,
   "metadata": {},
   "outputs": [
    {
     "data": {
      "text/plain": [
       "((175, 231), (175, 1), (75, 231), (75, 1))"
      ]
     },
     "execution_count": 80,
     "metadata": {},
     "output_type": "execute_result"
    }
   ],
   "source": [
    "df_train_X = pd.read_csv('../data/beer_features_train.csv', index_col=0)\n",
    "df_train_y = pd.read_csv('../data/beer_labels_panel_train.csv', index_col=0)[LABEL_COLS]\n",
    "df_test_X = pd.read_csv('../data/beer_features_test.csv', index_col=0)\n",
    "df_test_y = pd.read_csv('../data/beer_labels_panel_test.csv', index_col=0)[LABEL_COLS]\n",
    "\n",
    "df_train_X.shape, df_train_y.shape, df_test_X.shape, df_test_y.shape"
   ]
  },
  {
   "cell_type": "code",
   "execution_count": 81,
   "metadata": {},
   "outputs": [],
   "source": [
    "train_X = df_train_X.values\n",
    "train_y = df_train_y.values\n",
    "test_X = df_test_X.values\n",
    "test_y = df_test_y.values"
   ]
  },
  {
   "cell_type": "code",
   "execution_count": 82,
   "metadata": {},
   "outputs": [],
   "source": [
    "import xgboost as xgb\n",
    "from sklearn.metrics import mean_absolute_error as MAE\n",
    "from sklearn.metrics import r2_score\n",
    "from sklearn.model_selection import KFold\n",
    "from hyperdt.ensemble import HyperbolicRandomForestClassifier as HyperRF\n",
    "from sklearn.ensemble import RandomForestRegressor as SklearnRF"
   ]
  },
  {
   "cell_type": "code",
   "execution_count": 91,
   "metadata": {},
   "outputs": [
    {
     "name": "stderr",
     "output_type": "stream",
     "text": [
      "/Library/Frameworks/Python.framework/Versions/3.11/lib/python3.11/site-packages/sklearn/base.py:1151: DataConversionWarning: A column-vector y was passed when a 1d array was expected. Please change the shape of y to (n_samples,), for example using ravel().\n",
      "  return fit_method(estimator, *args, **kwargs)\n"
     ]
    },
    {
     "name": "stdout",
     "output_type": "stream",
     "text": [
      "Mean MAE :  0.645514\n",
      "Mean R-squared :  0.172611\n"
     ]
    },
    {
     "name": "stderr",
     "output_type": "stream",
     "text": [
      "/Library/Frameworks/Python.framework/Versions/3.11/lib/python3.11/site-packages/sklearn/base.py:1151: DataConversionWarning: A column-vector y was passed when a 1d array was expected. Please change the shape of y to (n_samples,), for example using ravel().\n",
      "  return fit_method(estimator, *args, **kwargs)\n"
     ]
    },
    {
     "name": "stdout",
     "output_type": "stream",
     "text": [
      "Mean MAE :  0.739944\n",
      "Mean R-squared :  0.158329\n"
     ]
    },
    {
     "name": "stderr",
     "output_type": "stream",
     "text": [
      "/Library/Frameworks/Python.framework/Versions/3.11/lib/python3.11/site-packages/sklearn/base.py:1151: DataConversionWarning: A column-vector y was passed when a 1d array was expected. Please change the shape of y to (n_samples,), for example using ravel().\n",
      "  return fit_method(estimator, *args, **kwargs)\n"
     ]
    },
    {
     "name": "stdout",
     "output_type": "stream",
     "text": [
      "Mean MAE :  0.662711\n",
      "Mean R-squared :  0.273609\n"
     ]
    },
    {
     "name": "stderr",
     "output_type": "stream",
     "text": [
      "/Library/Frameworks/Python.framework/Versions/3.11/lib/python3.11/site-packages/sklearn/base.py:1151: DataConversionWarning: A column-vector y was passed when a 1d array was expected. Please change the shape of y to (n_samples,), for example using ravel().\n",
      "  return fit_method(estimator, *args, **kwargs)\n"
     ]
    },
    {
     "name": "stdout",
     "output_type": "stream",
     "text": [
      "Mean MAE :  0.801288\n",
      "Mean R-squared : -0.047489\n"
     ]
    },
    {
     "name": "stderr",
     "output_type": "stream",
     "text": [
      "/Library/Frameworks/Python.framework/Versions/3.11/lib/python3.11/site-packages/sklearn/base.py:1151: DataConversionWarning: A column-vector y was passed when a 1d array was expected. Please change the shape of y to (n_samples,), for example using ravel().\n",
      "  return fit_method(estimator, *args, **kwargs)\n"
     ]
    },
    {
     "name": "stdout",
     "output_type": "stream",
     "text": [
      "Mean MAE :  0.703070\n",
      "Mean R-squared :  0.024031\n",
      "\n",
      "TEST Mean MAE :  0.766449\n",
      "TEST Mean R-squared :  0.162689\n"
     ]
    }
   ],
   "source": [
    "# Train seperate models on validation splits, make test predictions with each model and compare mean prediction to test set.\n",
    "# Way better for XBGregressor, consistently within rounding error better or worse for RFregressor\n",
    "test_preds = []\n",
    "\n",
    "kf = KFold(n_splits=5, shuffle=True, random_state=42)\n",
    "\n",
    "for fold, (train_idx, val_idx) in enumerate(kf.split(train_X, train_y)):\n",
    "    # regressor = xgb.XGBRegressor(tree_method='hist', seed=42)\n",
    "    regressor = SklearnRF(random_state=42)\n",
    "    # regressor = HyperRF(random_state=42)\n",
    "    # for tree in regressor.trees:\n",
    "    #     tree.skip_hyperboloid_check = True\n",
    "\n",
    "    fold_train_X, fold_val_X = train_X[train_idx], train_X[val_idx]\n",
    "    fold_train_y, fold_val_y = train_y[train_idx], train_y[val_idx]\n",
    "\n",
    "    # Fitting the model\n",
    "    regressor.fit(fold_train_X, fold_train_y)\n",
    "\n",
    "    # Predict the model\n",
    "    pred = regressor.predict(fold_val_X)\n",
    "\n",
    "    mae = MAE(fold_val_y, pred)\n",
    "    r2 = r2_score(fold_val_y, pred)\n",
    "    # ap = AP(fold_val_y, pred)\n",
    "\n",
    "\n",
    "    print(\"Mean MAE : % f\" % mae)\n",
    "    print(\"Mean R-squared : % f\" % r2)\n",
    "    # print(\"Mean Average Precision : % f\" % ap)\n",
    "    test_preds.append(regressor.predict(test_X))\n",
    "\n",
    "\n",
    "cum_test_pred = np.mean(test_preds, axis=0)\n",
    "mae = MAE(test_y, cum_test_pred)\n",
    "r2 = r2_score(test_y, cum_test_pred)\n",
    "\n",
    "print()\n",
    "print(\"TEST Mean MAE : % f\" % mae)\n",
    "print(\"TEST Mean R-squared : % f\" % r2)"
   ]
  },
  {
   "cell_type": "code",
   "execution_count": 92,
   "metadata": {},
   "outputs": [
    {
     "name": "stderr",
     "output_type": "stream",
     "text": [
      "/Library/Frameworks/Python.framework/Versions/3.11/lib/python3.11/site-packages/sklearn/base.py:1151: DataConversionWarning: A column-vector y was passed when a 1d array was expected. Please change the shape of y to (n_samples,), for example using ravel().\n",
      "  return fit_method(estimator, *args, **kwargs)\n"
     ]
    },
    {
     "name": "stdout",
     "output_type": "stream",
     "text": [
      "Mean MAE :  0.779111\n",
      "Mean R-squared :  0.142508\n"
     ]
    }
   ],
   "source": [
    "# Train on all train data, then validate on test set.\n",
    "test_preds = []\n",
    "\n",
    "# regressor = xgb.XGBRegressor(tree_method='hist', seed=42)\n",
    "regressor = SklearnRF(random_state=42)\n",
    "# regressor = HyperRF(random_state=42)\n",
    "# for tree in regressor.trees:\n",
    "#     tree.skip_hyperboloid_check = True\n",
    "\n",
    "fold_train_X, fold_val_X = train_X, test_X\n",
    "fold_train_y, fold_val_y = train_y, test_y\n",
    "\n",
    "# Fitting the model\n",
    "regressor.fit(fold_train_X, fold_train_y)\n",
    "\n",
    "# Predict the model\n",
    "pred = regressor.predict(fold_val_X)\n",
    "\n",
    "mae = MAE(fold_val_y, pred)\n",
    "r2 = r2_score(fold_val_y, pred)\n",
    "# ap = AP(fold_val_y, pred)\n",
    "\n",
    "\n",
    "print(\"Mean MAE : % f\" % mae)\n",
    "print(\"Mean R-squared : % f\" % r2)"
   ]
  },
  {
   "cell_type": "markdown",
   "metadata": {},
   "source": [
    "<h2> All </h2>\n",
    "XGBregressor:\n",
    "Mean MAE :  0.638011\n",
    "Mean R-squared :  0.206903\n",
    "\n",
    "SklearnRFregressor\n",
    "Mean MAE :  0.631028\n",
    "Mean R-squared :  0.245145\n",
    "\n",
    "<h2> Both </h2>\n",
    "XGBregressor:\n",
    "Mean MAE :  0.683563\n",
    "Mean R-squared :  0.199913\n",
    "\n",
    "SklearnRFregressor\n",
    "Mean MAE :  0.670847\n",
    "Mean R-squared :  0.232012\n",
    "\n",
    "<h2> Aroma </h2>\n",
    "XGBregressor:\n",
    "Mean MAE :  0.694770\n",
    "Mean R-squared :  0.167947\n",
    "\n",
    "SklearnRFregressor\n",
    "Mean MAE :  0.680904\n",
    "Mean R-squared :  0.206033\n",
    "\n",
    "<h2> Falvour </h2>\n",
    "XGBregressor:\n",
    "Mean MAE :  0.670411\n",
    "Mean R-squared :  0.230154\n",
    "\n",
    "SklearnRFregressor\n",
    "Mean MAE :  0.663148\n",
    "Mean R-squared :  0.240679\n",
    "\n",
    "<h2> Overall </h2>\n",
    "XGBregressor:\n",
    "Mean MAE :  0.782159\n",
    "Mean R-squared :  0.106610\n",
    "\n",
    "SklearnRFregressor\n",
    "Mean MAE :  0.766449\n",
    "Mean R-squared :  0.142508"
   ]
  },
  {
   "cell_type": "code",
   "execution_count": null,
   "metadata": {},
   "outputs": [],
   "source": []
  }
 ],
 "metadata": {
  "kernelspec": {
   "display_name": "Python 3",
   "language": "python",
   "name": "python3"
  },
  "language_info": {
   "codemirror_mode": {
    "name": "ipython",
    "version": 3
   },
   "file_extension": ".py",
   "mimetype": "text/x-python",
   "name": "python",
   "nbconvert_exporter": "python",
   "pygments_lexer": "ipython3",
   "version": "3.11.1"
  }
 },
 "nbformat": 4,
 "nbformat_minor": 2
}
