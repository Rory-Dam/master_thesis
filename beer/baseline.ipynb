{
 "cells": [
  {
   "cell_type": "code",
   "execution_count": 1,
   "metadata": {},
   "outputs": [],
   "source": [
    "import numpy as np\n",
    "import pandas as pd"
   ]
  },
  {
   "cell_type": "code",
   "execution_count": 2,
   "metadata": {},
   "outputs": [
    {
     "data": {
      "text/plain": [
       "((175, 231), (175, 50), (75, 231), (75, 50))"
      ]
     },
     "execution_count": 2,
     "metadata": {},
     "output_type": "execute_result"
    }
   ],
   "source": [
    "df_train_X = pd.read_csv('../data/beer_features_train.csv', index_col=0)\n",
    "df_train_y = pd.read_csv('../data/beer_labels_panel_train.csv', index_col=0)\n",
    "df_test_X = pd.read_csv('../data/beer_features_test.csv', index_col=0)\n",
    "df_test_y = pd.read_csv('../data/beer_labels_panel_test.csv', index_col=0)\n",
    "\n",
    "df_train_X.shape, df_train_y.shape, df_test_X.shape, df_test_y.shape"
   ]
  },
  {
   "cell_type": "code",
   "execution_count": 3,
   "metadata": {},
   "outputs": [],
   "source": [
    "train_X = df_train_X.values\n",
    "train_y = df_train_y.values\n",
    "test_X = df_test_X.values\n",
    "test_y = df_test_y.values"
   ]
  },
  {
   "cell_type": "code",
   "execution_count": 4,
   "metadata": {},
   "outputs": [
    {
     "data": {
      "text/plain": [
       "-2.580113937141425"
      ]
     },
     "execution_count": 4,
     "metadata": {},
     "output_type": "execute_result"
    }
   ],
   "source": [
    "train_X.min()\n",
    "train_y.min()\n",
    "test_X.min()\n",
    "test_y.min()"
   ]
  },
  {
   "cell_type": "code",
   "execution_count": 26,
   "metadata": {},
   "outputs": [
    {
     "name": "stdout",
     "output_type": "stream",
     "text": [
      "Mean MAE :  0.652151\n",
      "Mean R-squared :  0.126738\n",
      "Mean MAE :  0.647558\n",
      "Mean R-squared :  0.209197\n",
      "Mean MAE :  0.594252\n",
      "Mean R-squared :  0.198723\n",
      "Mean MAE :  0.654464\n",
      "Mean R-squared :  0.162244\n",
      "Mean MAE :  0.584877\n",
      "Mean R-squared :  0.190215\n"
     ]
    }
   ],
   "source": [
    "import xgboost as xgb\n",
    "from sklearn.metrics import mean_absolute_error as MAE\n",
    "from sklearn.metrics import r2_score\n",
    "from sklearn.model_selection import KFold\n",
    "from hyperdt.ensemble import HyperbolicRandomForestClassifier as HyperRF\n",
    "from sklearn.ensemble import RandomForestRegressor as SklearnRF\n",
    "\n",
    "models = []\n",
    "\n",
    "kf = KFold(n_splits=5, shuffle=True, random_state=42)\n",
    "\n",
    "for fold, (train_idx, val_idx) in enumerate(kf.split(train_X, train_y)):\n",
    "    # regressor = xgb.XGBRegressor(tree_method='hist', seed=42)\n",
    "    regressor = SklearnRF(random_state=42)\n",
    "    # regressor = HyperRF(random_state=42)\n",
    "    # for tree in regressor.trees:\n",
    "    #     tree.skip_hyperboloid_check = True\n",
    "\n",
    "    fold_train_X, fold_val_X = train_X[train_idx], train_X[val_idx]\n",
    "    fold_train_y, fold_val_y = train_y[train_idx], train_y[val_idx]\n",
    "\n",
    "    # Fitting the model\n",
    "    regressor.fit(fold_train_X, fold_train_y)\n",
    "\n",
    "    # Predict the model\n",
    "    pred = regressor.predict(fold_val_X)\n",
    "\n",
    "    mae = MAE(fold_val_y, pred)\n",
    "    r2 = r2_score(fold_val_y, pred)\n",
    "    # ap = AP(fold_val_y, pred)\n",
    "\n",
    "\n",
    "    print(\"Mean MAE : % f\" % mae)\n",
    "    print(\"Mean R-squared : % f\" % r2)\n",
    "    # print(\"Mean Average Precision : % f\" % ap)\n",
    "    models.append(regressor)"
   ]
  },
  {
   "cell_type": "code",
   "execution_count": 22,
   "metadata": {},
   "outputs": [
    {
     "name": "stdout",
     "output_type": "stream",
     "text": [
      "(75, 50)\n",
      "(75, 50)\n",
      "(75, 50)\n",
      "(75, 50)\n",
      "(75, 50)\n"
     ]
    }
   ],
   "source": [
    "preds = []\n",
    "for model in models:\n",
    "    pred = model.predict(test_X)\n",
    "    print(pred.shape)\n",
    "    preds.append(pred)\n",
    "\n",
    "preds = np.array(preds)"
   ]
  },
  {
   "cell_type": "code",
   "execution_count": 23,
   "metadata": {},
   "outputs": [
    {
     "name": "stdout",
     "output_type": "stream",
     "text": [
      "Mean MAE :  0.631028\n",
      "Mean R-squared :  0.245145\n"
     ]
    }
   ],
   "source": [
    "for pred in [np.mean(preds, axis=0)]:\n",
    "    mae = MAE(test_y, pred)\n",
    "    r2 = r2_score(test_y, pred)\n",
    "    # ap = AP(fold_val_y, pred)\n",
    "\n",
    "\n",
    "    print(\"Mean MAE : % f\" % mae)\n",
    "    print(\"Mean R-squared : % f\" % r2)\n",
    "    # print(\"Mean Average Precision : % f\" % ap)"
   ]
  },
  {
   "cell_type": "markdown",
   "metadata": {},
   "source": [
    "XGBregressor:\n",
    "Mean MAE :  0.638011\n",
    "Mean R-squared :  0.206903\n",
    "\n",
    "SklearnRFregressor\n",
    "Mean MAE :  0.631028\n",
    "Mean R-squared :  0.245145"
   ]
  },
  {
   "cell_type": "markdown",
   "metadata": {},
   "source": []
  }
 ],
 "metadata": {
  "kernelspec": {
   "display_name": "Python 3",
   "language": "python",
   "name": "python3"
  },
  "language_info": {
   "codemirror_mode": {
    "name": "ipython",
    "version": 3
   },
   "file_extension": ".py",
   "mimetype": "text/x-python",
   "name": "python",
   "nbconvert_exporter": "python",
   "pygments_lexer": "ipython3",
   "version": "3.11.1"
  }
 },
 "nbformat": 4,
 "nbformat_minor": 2
}
