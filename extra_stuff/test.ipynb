{
 "cells": [
  {
   "cell_type": "code",
   "execution_count": 2,
   "metadata": {},
   "outputs": [],
   "source": [
    "import numpy as np"
   ]
  },
  {
   "cell_type": "code",
   "execution_count": 20,
   "metadata": {},
   "outputs": [],
   "source": [
    "type_groups = [np.array([12,  8,  2,  7]),\n",
    "               np.array([11,  9]),\n",
    "               np.array([15,  5]),\n",
    "               np.array([19,  6, 18]),\n",
    "               np.array([ 1, 14, 21]),\n",
    "               np.array([ 3, 17,  0]),\n",
    "               np.array([10]),\n",
    "               np.array([13]),\n",
    "               np.array([16, 20,  4])]\n",
    "\n",
    "type_groups = [np.array([0,1]),\n",
    "                np.array([2,3]),\n",
    "                np.array([4,5,6])]"
   ]
  },
  {
   "cell_type": "code",
   "execution_count": 21,
   "metadata": {},
   "outputs": [
    {
     "data": {
      "text/plain": [
       "[array([0, 1]), array([2, 3]), array([4, 5, 6])]"
      ]
     },
     "execution_count": 21,
     "metadata": {},
     "output_type": "execute_result"
    }
   ],
   "source": [
    "type_groups"
   ]
  },
  {
   "cell_type": "code",
   "execution_count": 22,
   "metadata": {},
   "outputs": [],
   "source": [
    "NUM_CLASSES = sum(len(group) for group in type_groups)\n",
    "\n",
    "def generate_disctance_matrix(group_value=0.5):\n",
    "    d_matrix = np.ones([NUM_CLASSES,NUM_CLASSES]) - np.diag(np.ones(NUM_CLASSES))\n",
    "\n",
    "    for group in type_groups:\n",
    "        for i, x in enumerate(group[:-1]):\n",
    "            for j, y in enumerate(group[i+1:]):\n",
    "                d_matrix[x,y] = group_value\n",
    "                d_matrix[y,x] = group_value\n",
    "\n",
    "    return d_matrix"
   ]
  },
  {
   "cell_type": "code",
   "execution_count": 93,
   "metadata": {},
   "outputs": [
    {
     "name": "stdout",
     "output_type": "stream",
     "text": [
      "[0.0, 0.5, 1.0, 1.0, 1.0, 1.0, 1.0]\n",
      "[0.5, 0.0, 1.0, 1.0, 1.0, 1.0, 1.0]\n",
      "[1.0, 1.0, 0.0, 0.5, 1.0, 1.0, 1.0]\n",
      "[1.0, 1.0, 0.5, 0.0, 1.0, 1.0, 1.0]\n",
      "[1.0, 1.0, 1.0, 1.0, 0.0, 0.5, 0.5]\n",
      "[1.0, 1.0, 1.0, 1.0, 0.5, 0.0, 0.5]\n",
      "[1.0, 1.0, 1.0, 1.0, 0.5, 0.5, 0.0]\n"
     ]
    }
   ],
   "source": [
    "d_matrix = generate_disctance_matrix()\n",
    "for d in d_matrix:\n",
    "    print(list(d))"
   ]
  },
  {
   "cell_type": "code",
   "execution_count": 94,
   "metadata": {},
   "outputs": [],
   "source": [
    "gt   = np.array([0,1,2,3,4,5,6,6])\n",
    "pred = np.array([[1,0,0,0,0,0,0],\n",
    "                 [0,1,0,0,0,0,0],\n",
    "                 [0,0,0,1,0,0,0],\n",
    "                 [0,0,1,0,0,0,0],\n",
    "                 [0,0,1,0,0,0,0],\n",
    "                 [0,0,0,1,0,0,0],\n",
    "                 [0,0,0,0,1,0,0],\n",
    "                 [0,0,0,0,0,0,1]\n",
    "                 ])"
   ]
  },
  {
   "cell_type": "code",
   "execution_count": 95,
   "metadata": {},
   "outputs": [],
   "source": [
    "import torch.nn.functional as F\n",
    "import torch"
   ]
  },
  {
   "cell_type": "code",
   "execution_count": 96,
   "metadata": {},
   "outputs": [
    {
     "data": {
      "text/plain": [
       "torch.Size([8, 7])"
      ]
     },
     "execution_count": 96,
     "metadata": {},
     "output_type": "execute_result"
    }
   ],
   "source": [
    "torch.Tensor(pred).shape"
   ]
  },
  {
   "cell_type": "code",
   "execution_count": 97,
   "metadata": {},
   "outputs": [
    {
     "data": {
      "text/plain": [
       "(8,)"
      ]
     },
     "execution_count": 97,
     "metadata": {},
     "output_type": "execute_result"
    }
   ],
   "source": [
    "gt.shape"
   ]
  },
  {
   "cell_type": "code",
   "execution_count": 98,
   "metadata": {},
   "outputs": [
    {
     "name": "stdout",
     "output_type": "stream",
     "text": [
      "tensor([1.1654, 1.1654, 2.1654, 2.1654, 2.1654, 2.1654, 2.1654, 1.1654])\n",
      "tensor([0.0000, 0.0000, 1.0827, 1.0827, 2.1654, 2.1654, 1.0827, 0.0000],\n",
      "       dtype=torch.float64)\n"
     ]
    }
   ],
   "source": [
    "print(F.cross_entropy(torch.Tensor(pred), torch.Tensor(gt).to(torch.long), reduction='none'))\n",
    "print(F.cross_entropy(torch.Tensor(pred), torch.Tensor(gt).to(torch.long), reduction='none') * d_matrix[pred.argmax(axis=1), gt])"
   ]
  },
  {
   "cell_type": "code",
   "execution_count": 99,
   "metadata": {},
   "outputs": [
    {
     "data": {
      "text/plain": [
       "array([0. , 0. , 0.5, 0.5, 1. , 1. , 0.5, 0. ])"
      ]
     },
     "execution_count": 99,
     "metadata": {},
     "output_type": "execute_result"
    }
   ],
   "source": [
    "d_matrix[pred.argmax(axis=1), gt]"
   ]
  },
  {
   "cell_type": "code",
   "execution_count": null,
   "metadata": {},
   "outputs": [],
   "source": []
  }
 ],
 "metadata": {
  "kernelspec": {
   "display_name": "Python 3",
   "language": "python",
   "name": "python3"
  },
  "language_info": {
   "codemirror_mode": {
    "name": "ipython",
    "version": 3
   },
   "file_extension": ".py",
   "mimetype": "text/x-python",
   "name": "python",
   "nbconvert_exporter": "python",
   "pygments_lexer": "ipython3",
   "version": "3.12.3"
  }
 },
 "nbformat": 4,
 "nbformat_minor": 2
}
