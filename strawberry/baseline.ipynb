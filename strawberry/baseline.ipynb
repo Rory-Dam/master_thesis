{
 "cells": [
  {
   "cell_type": "code",
   "execution_count": null,
   "metadata": {},
   "outputs": [],
   "source": [
    "import numpy as np\n",
    "import pandas as pd"
   ]
  },
  {
   "cell_type": "code",
   "execution_count": null,
   "metadata": {},
   "outputs": [],
   "source": [
    "dataset = pd.read_csv('../data/strawberry_samples_big.csv', index_col=0)\n",
    "val_dataset = pd.read_csv('../data/strawberry_val_dataset.csv', index_col=0)\n",
    "dataset"
   ]
  },
  {
   "cell_type": "code",
   "execution_count": null,
   "metadata": {},
   "outputs": [],
   "source": [
    "target_cols = dataset.columns[:5]\n",
    "target_cols"
   ]
  },
  {
   "cell_type": "code",
   "execution_count": null,
   "metadata": {},
   "outputs": [],
   "source": [
    "feature_cols = dataset.columns[5:]\n",
    "feature_cols"
   ]
  },
  {
   "cell_type": "code",
   "execution_count": null,
   "metadata": {},
   "outputs": [],
   "source": [
    "features = dataset[feature_cols].values\n",
    "labels = dataset[target_cols].values\n",
    "val_features = val_dataset[feature_cols].values\n",
    "val_labels = val_dataset[target_cols].values\n",
    "print(features.shape)\n",
    "print(labels.shape)"
   ]
  },
  {
   "cell_type": "code",
   "execution_count": null,
   "metadata": {},
   "outputs": [],
   "source": [
    "NUM_SAMPLE_TYPES = 54\n",
    "NUM_SAMPLES_PER_TYPE = len(dataset) // NUM_SAMPLE_TYPES\n",
    "TEST_SIZE = 0.2\n",
    "train_X = features[int(NUM_SAMPLE_TYPES*TEST_SIZE)*NUM_SAMPLES_PER_TYPE:]\n",
    "train_y = labels[int(NUM_SAMPLE_TYPES*TEST_SIZE)*NUM_SAMPLES_PER_TYPE:]\n",
    "test_X = val_features[:int(NUM_SAMPLE_TYPES*TEST_SIZE)]\n",
    "test_y = val_labels[:int(NUM_SAMPLE_TYPES*TEST_SIZE)]"
   ]
  },
  {
   "cell_type": "code",
   "execution_count": null,
   "metadata": {},
   "outputs": [],
   "source": [
    "import xgboost as xgb\n",
    "from sklearn.metrics import mean_absolute_error as MAE\n",
    "from sklearn.multioutput import MultiOutputRegressor\n",
    "\n",
    "xgb_regressor = xgb.XGBRegressor(tree_method='hist', objective='reg:tweedie', seed=42)\n",
    "multioutput_regressor = MultiOutputRegressor(xgb_regressor)\n",
    "\n",
    "# Fitting the model\n",
    "multioutput_regressor.fit(train_X, train_y)\n",
    "\n",
    "# Predict the model\n",
    "pred = multioutput_regressor.predict(test_X)\n",
    "\n",
    "print(\"MAE : % f\" %(MAE(test_y, pred)))"
   ]
  },
  {
   "cell_type": "code",
   "execution_count": null,
   "metadata": {},
   "outputs": [],
   "source": []
  }
 ],
 "metadata": {
  "kernelspec": {
   "display_name": "Python 3",
   "language": "python",
   "name": "python3"
  },
  "language_info": {
   "codemirror_mode": {
    "name": "ipython",
    "version": 3
   },
   "file_extension": ".py",
   "mimetype": "text/x-python",
   "name": "python",
   "nbconvert_exporter": "python",
   "pygments_lexer": "ipython3",
   "version": "3.11.1"
  }
 },
 "nbformat": 4,
 "nbformat_minor": 2
}
