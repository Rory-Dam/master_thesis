{
 "cells": [
  {
   "cell_type": "code",
   "execution_count": 1,
   "metadata": {},
   "outputs": [],
   "source": [
    "import numpy as np\n",
    "import pandas as pd"
   ]
  },
  {
   "cell_type": "code",
   "execution_count": 2,
   "metadata": {},
   "outputs": [],
   "source": [
    "import consts\n",
    "import util"
   ]
  },
  {
   "cell_type": "code",
   "execution_count": 3,
   "metadata": {},
   "outputs": [
    {
     "data": {
      "text/html": [
       "<div>\n",
       "<style scoped>\n",
       "    .dataframe tbody tr th:only-of-type {\n",
       "        vertical-align: middle;\n",
       "    }\n",
       "\n",
       "    .dataframe tbody tr th {\n",
       "        vertical-align: top;\n",
       "    }\n",
       "\n",
       "    .dataframe thead th {\n",
       "        text-align: right;\n",
       "    }\n",
       "</style>\n",
       "<table border=\"1\" class=\"dataframe\">\n",
       "  <thead>\n",
       "    <tr style=\"text-align: right;\">\n",
       "      <th></th>\n",
       "      <th>OVERALL LIKING</th>\n",
       "      <th>TEXTURE LIKING</th>\n",
       "      <th>SWEETNESS INTENSITY</th>\n",
       "      <th>SOURNESS INTENSITY</th>\n",
       "      <th>STRAWBERRY FLAVOR INTENSITY</th>\n",
       "      <th>6915-15-7</th>\n",
       "      <th>77-92-9</th>\n",
       "      <th>50-99-7</th>\n",
       "      <th>57-48-7</th>\n",
       "      <th>57-50-1</th>\n",
       "      <th>...</th>\n",
       "      <th>7786-58-5</th>\n",
       "      <th>15111-96-3</th>\n",
       "      <th>706-14-9</th>\n",
       "      <th>10522-34-6</th>\n",
       "      <th>5881-17-4</th>\n",
       "      <th>128-37-0</th>\n",
       "      <th>40716-66-3</th>\n",
       "      <th>4887-30-3</th>\n",
       "      <th>5454-09-1</th>\n",
       "      <th>2305-05-7</th>\n",
       "    </tr>\n",
       "  </thead>\n",
       "  <tbody>\n",
       "    <tr>\n",
       "      <th>0</th>\n",
       "      <td>0.307068</td>\n",
       "      <td>0.250174</td>\n",
       "      <td>0.276647</td>\n",
       "      <td>0.146214</td>\n",
       "      <td>0.305021</td>\n",
       "      <td>-2.120421</td>\n",
       "      <td>0.171179</td>\n",
       "      <td>0.759180</td>\n",
       "      <td>0.612070</td>\n",
       "      <td>0.314374</td>\n",
       "      <td>...</td>\n",
       "      <td>-0.271610</td>\n",
       "      <td>-0.443110</td>\n",
       "      <td>-0.544167</td>\n",
       "      <td>-0.463164</td>\n",
       "      <td>1.289539</td>\n",
       "      <td>-0.945803</td>\n",
       "      <td>0.122098</td>\n",
       "      <td>-0.127048</td>\n",
       "      <td>0.804970</td>\n",
       "      <td>-0.354773</td>\n",
       "    </tr>\n",
       "    <tr>\n",
       "      <th>1</th>\n",
       "      <td>0.307859</td>\n",
       "      <td>0.249023</td>\n",
       "      <td>0.276101</td>\n",
       "      <td>0.147151</td>\n",
       "      <td>0.306364</td>\n",
       "      <td>-2.119978</td>\n",
       "      <td>0.171282</td>\n",
       "      <td>0.759195</td>\n",
       "      <td>0.612046</td>\n",
       "      <td>0.314378</td>\n",
       "      <td>...</td>\n",
       "      <td>-0.276743</td>\n",
       "      <td>-0.334642</td>\n",
       "      <td>-0.545464</td>\n",
       "      <td>-0.568225</td>\n",
       "      <td>1.346308</td>\n",
       "      <td>-0.893509</td>\n",
       "      <td>0.117186</td>\n",
       "      <td>-0.129998</td>\n",
       "      <td>0.800679</td>\n",
       "      <td>-0.374048</td>\n",
       "    </tr>\n",
       "    <tr>\n",
       "      <th>2</th>\n",
       "      <td>0.306348</td>\n",
       "      <td>0.248756</td>\n",
       "      <td>0.277115</td>\n",
       "      <td>0.146568</td>\n",
       "      <td>0.306719</td>\n",
       "      <td>-2.120063</td>\n",
       "      <td>0.171283</td>\n",
       "      <td>0.759176</td>\n",
       "      <td>0.612056</td>\n",
       "      <td>0.314430</td>\n",
       "      <td>...</td>\n",
       "      <td>-0.275587</td>\n",
       "      <td>-0.241669</td>\n",
       "      <td>-0.544872</td>\n",
       "      <td>-0.614111</td>\n",
       "      <td>1.283168</td>\n",
       "      <td>-0.997929</td>\n",
       "      <td>0.118824</td>\n",
       "      <td>-0.128236</td>\n",
       "      <td>0.819822</td>\n",
       "      <td>-0.357370</td>\n",
       "    </tr>\n",
       "    <tr>\n",
       "      <th>3</th>\n",
       "      <td>0.307694</td>\n",
       "      <td>0.248227</td>\n",
       "      <td>0.277607</td>\n",
       "      <td>0.147135</td>\n",
       "      <td>0.305276</td>\n",
       "      <td>-2.120058</td>\n",
       "      <td>0.171249</td>\n",
       "      <td>0.759163</td>\n",
       "      <td>0.612060</td>\n",
       "      <td>0.314365</td>\n",
       "      <td>...</td>\n",
       "      <td>-0.273644</td>\n",
       "      <td>-0.312912</td>\n",
       "      <td>-0.545357</td>\n",
       "      <td>-0.562826</td>\n",
       "      <td>1.343249</td>\n",
       "      <td>-0.959232</td>\n",
       "      <td>0.118201</td>\n",
       "      <td>-0.126724</td>\n",
       "      <td>0.811123</td>\n",
       "      <td>-0.377366</td>\n",
       "    </tr>\n",
       "    <tr>\n",
       "      <th>4</th>\n",
       "      <td>0.308055</td>\n",
       "      <td>0.249070</td>\n",
       "      <td>0.276638</td>\n",
       "      <td>0.145692</td>\n",
       "      <td>0.305707</td>\n",
       "      <td>-2.120678</td>\n",
       "      <td>0.171089</td>\n",
       "      <td>0.759154</td>\n",
       "      <td>0.612069</td>\n",
       "      <td>0.314420</td>\n",
       "      <td>...</td>\n",
       "      <td>-0.273092</td>\n",
       "      <td>-0.211367</td>\n",
       "      <td>-0.545153</td>\n",
       "      <td>-0.589017</td>\n",
       "      <td>1.548846</td>\n",
       "      <td>-0.901830</td>\n",
       "      <td>0.120083</td>\n",
       "      <td>-0.126749</td>\n",
       "      <td>0.807910</td>\n",
       "      <td>-0.384669</td>\n",
       "    </tr>\n",
       "    <tr>\n",
       "      <th>...</th>\n",
       "      <td>...</td>\n",
       "      <td>...</td>\n",
       "      <td>...</td>\n",
       "      <td>...</td>\n",
       "      <td>...</td>\n",
       "      <td>...</td>\n",
       "      <td>...</td>\n",
       "      <td>...</td>\n",
       "      <td>...</td>\n",
       "      <td>...</td>\n",
       "      <td>...</td>\n",
       "      <td>...</td>\n",
       "      <td>...</td>\n",
       "      <td>...</td>\n",
       "      <td>...</td>\n",
       "      <td>...</td>\n",
       "      <td>...</td>\n",
       "      <td>...</td>\n",
       "      <td>...</td>\n",
       "      <td>...</td>\n",
       "      <td>...</td>\n",
       "    </tr>\n",
       "    <tr>\n",
       "      <th>53995</th>\n",
       "      <td>0.237395</td>\n",
       "      <td>0.249785</td>\n",
       "      <td>0.205025</td>\n",
       "      <td>0.225081</td>\n",
       "      <td>0.258800</td>\n",
       "      <td>-0.222374</td>\n",
       "      <td>0.884429</td>\n",
       "      <td>-0.834332</td>\n",
       "      <td>-0.803436</td>\n",
       "      <td>-0.625512</td>\n",
       "      <td>...</td>\n",
       "      <td>-0.368228</td>\n",
       "      <td>-0.326611</td>\n",
       "      <td>-0.146165</td>\n",
       "      <td>-0.098112</td>\n",
       "      <td>0.032811</td>\n",
       "      <td>-0.408101</td>\n",
       "      <td>0.055410</td>\n",
       "      <td>-0.453151</td>\n",
       "      <td>-0.452553</td>\n",
       "      <td>-0.445544</td>\n",
       "    </tr>\n",
       "    <tr>\n",
       "      <th>53996</th>\n",
       "      <td>0.240068</td>\n",
       "      <td>0.250256</td>\n",
       "      <td>0.204477</td>\n",
       "      <td>0.226804</td>\n",
       "      <td>0.257519</td>\n",
       "      <td>-0.221809</td>\n",
       "      <td>0.884286</td>\n",
       "      <td>-0.834295</td>\n",
       "      <td>-0.803437</td>\n",
       "      <td>-0.625499</td>\n",
       "      <td>...</td>\n",
       "      <td>-0.394705</td>\n",
       "      <td>-0.280702</td>\n",
       "      <td>-0.155369</td>\n",
       "      <td>-0.551456</td>\n",
       "      <td>-0.262542</td>\n",
       "      <td>-0.313059</td>\n",
       "      <td>0.052135</td>\n",
       "      <td>-0.480896</td>\n",
       "      <td>-0.518157</td>\n",
       "      <td>-0.462789</td>\n",
       "    </tr>\n",
       "    <tr>\n",
       "      <th>53997</th>\n",
       "      <td>0.238440</td>\n",
       "      <td>0.249851</td>\n",
       "      <td>0.204574</td>\n",
       "      <td>0.224211</td>\n",
       "      <td>0.257632</td>\n",
       "      <td>-0.222039</td>\n",
       "      <td>0.884583</td>\n",
       "      <td>-0.834322</td>\n",
       "      <td>-0.803455</td>\n",
       "      <td>-0.625512</td>\n",
       "      <td>...</td>\n",
       "      <td>-0.390017</td>\n",
       "      <td>-0.316657</td>\n",
       "      <td>-0.159865</td>\n",
       "      <td>-0.542431</td>\n",
       "      <td>-0.189396</td>\n",
       "      <td>-0.153318</td>\n",
       "      <td>0.055373</td>\n",
       "      <td>-0.470802</td>\n",
       "      <td>-0.472719</td>\n",
       "      <td>-0.478549</td>\n",
       "    </tr>\n",
       "    <tr>\n",
       "      <th>53998</th>\n",
       "      <td>0.238959</td>\n",
       "      <td>0.250376</td>\n",
       "      <td>0.202495</td>\n",
       "      <td>0.225202</td>\n",
       "      <td>0.258081</td>\n",
       "      <td>-0.222588</td>\n",
       "      <td>0.884425</td>\n",
       "      <td>-0.834312</td>\n",
       "      <td>-0.803431</td>\n",
       "      <td>-0.625546</td>\n",
       "      <td>...</td>\n",
       "      <td>-0.372647</td>\n",
       "      <td>-0.229130</td>\n",
       "      <td>-0.157428</td>\n",
       "      <td>-0.625398</td>\n",
       "      <td>-0.242219</td>\n",
       "      <td>-0.471044</td>\n",
       "      <td>0.053125</td>\n",
       "      <td>-0.445828</td>\n",
       "      <td>-0.497520</td>\n",
       "      <td>-0.467094</td>\n",
       "    </tr>\n",
       "    <tr>\n",
       "      <th>53999</th>\n",
       "      <td>0.237641</td>\n",
       "      <td>0.250909</td>\n",
       "      <td>0.204326</td>\n",
       "      <td>0.225894</td>\n",
       "      <td>0.258426</td>\n",
       "      <td>-0.222090</td>\n",
       "      <td>0.884445</td>\n",
       "      <td>-0.834318</td>\n",
       "      <td>-0.803431</td>\n",
       "      <td>-0.625532</td>\n",
       "      <td>...</td>\n",
       "      <td>-0.379062</td>\n",
       "      <td>-0.670598</td>\n",
       "      <td>-0.160341</td>\n",
       "      <td>-0.515137</td>\n",
       "      <td>-0.225687</td>\n",
       "      <td>-0.381578</td>\n",
       "      <td>0.054690</td>\n",
       "      <td>-0.463344</td>\n",
       "      <td>-0.495692</td>\n",
       "      <td>-0.447090</td>\n",
       "    </tr>\n",
       "  </tbody>\n",
       "</table>\n",
       "<p>54000 rows × 94 columns</p>\n",
       "</div>"
      ],
      "text/plain": [
       "       OVERALL LIKING  TEXTURE LIKING  SWEETNESS INTENSITY  \\\n",
       "0            0.307068        0.250174             0.276647   \n",
       "1            0.307859        0.249023             0.276101   \n",
       "2            0.306348        0.248756             0.277115   \n",
       "3            0.307694        0.248227             0.277607   \n",
       "4            0.308055        0.249070             0.276638   \n",
       "...               ...             ...                  ...   \n",
       "53995        0.237395        0.249785             0.205025   \n",
       "53996        0.240068        0.250256             0.204477   \n",
       "53997        0.238440        0.249851             0.204574   \n",
       "53998        0.238959        0.250376             0.202495   \n",
       "53999        0.237641        0.250909             0.204326   \n",
       "\n",
       "       SOURNESS INTENSITY  STRAWBERRY FLAVOR INTENSITY  6915-15-7   77-92-9  \\\n",
       "0                0.146214                     0.305021  -2.120421  0.171179   \n",
       "1                0.147151                     0.306364  -2.119978  0.171282   \n",
       "2                0.146568                     0.306719  -2.120063  0.171283   \n",
       "3                0.147135                     0.305276  -2.120058  0.171249   \n",
       "4                0.145692                     0.305707  -2.120678  0.171089   \n",
       "...                   ...                          ...        ...       ...   \n",
       "53995            0.225081                     0.258800  -0.222374  0.884429   \n",
       "53996            0.226804                     0.257519  -0.221809  0.884286   \n",
       "53997            0.224211                     0.257632  -0.222039  0.884583   \n",
       "53998            0.225202                     0.258081  -0.222588  0.884425   \n",
       "53999            0.225894                     0.258426  -0.222090  0.884445   \n",
       "\n",
       "        50-99-7   57-48-7   57-50-1  ...  7786-58-5   15111-96-3   706-14-9   \\\n",
       "0      0.759180  0.612070  0.314374  ...   -0.271610    -0.443110  -0.544167   \n",
       "1      0.759195  0.612046  0.314378  ...   -0.276743    -0.334642  -0.545464   \n",
       "2      0.759176  0.612056  0.314430  ...   -0.275587    -0.241669  -0.544872   \n",
       "3      0.759163  0.612060  0.314365  ...   -0.273644    -0.312912  -0.545357   \n",
       "4      0.759154  0.612069  0.314420  ...   -0.273092    -0.211367  -0.545153   \n",
       "...         ...       ...       ...  ...         ...          ...        ...   \n",
       "53995 -0.834332 -0.803436 -0.625512  ...   -0.368228    -0.326611  -0.146165   \n",
       "53996 -0.834295 -0.803437 -0.625499  ...   -0.394705    -0.280702  -0.155369   \n",
       "53997 -0.834322 -0.803455 -0.625512  ...   -0.390017    -0.316657  -0.159865   \n",
       "53998 -0.834312 -0.803431 -0.625546  ...   -0.372647    -0.229130  -0.157428   \n",
       "53999 -0.834318 -0.803431 -0.625532  ...   -0.379062    -0.670598  -0.160341   \n",
       "\n",
       "       10522-34-6   5881-17-4   128-37-0  40716-66-3   4887-30-3   5454-09-1   \\\n",
       "0        -0.463164    1.289539 -0.945803     0.122098   -0.127048    0.804970   \n",
       "1        -0.568225    1.346308 -0.893509     0.117186   -0.129998    0.800679   \n",
       "2        -0.614111    1.283168 -0.997929     0.118824   -0.128236    0.819822   \n",
       "3        -0.562826    1.343249 -0.959232     0.118201   -0.126724    0.811123   \n",
       "4        -0.589017    1.548846 -0.901830     0.120083   -0.126749    0.807910   \n",
       "...            ...         ...       ...          ...         ...         ...   \n",
       "53995    -0.098112    0.032811 -0.408101     0.055410   -0.453151   -0.452553   \n",
       "53996    -0.551456   -0.262542 -0.313059     0.052135   -0.480896   -0.518157   \n",
       "53997    -0.542431   -0.189396 -0.153318     0.055373   -0.470802   -0.472719   \n",
       "53998    -0.625398   -0.242219 -0.471044     0.053125   -0.445828   -0.497520   \n",
       "53999    -0.515137   -0.225687 -0.381578     0.054690   -0.463344   -0.495692   \n",
       "\n",
       "       2305-05-7  \n",
       "0      -0.354773  \n",
       "1      -0.374048  \n",
       "2      -0.357370  \n",
       "3      -0.377366  \n",
       "4      -0.384669  \n",
       "...          ...  \n",
       "53995  -0.445544  \n",
       "53996  -0.462789  \n",
       "53997  -0.478549  \n",
       "53998  -0.467094  \n",
       "53999  -0.447090  \n",
       "\n",
       "[54000 rows x 94 columns]"
      ]
     },
     "execution_count": 3,
     "metadata": {},
     "output_type": "execute_result"
    }
   ],
   "source": [
    "data = pd.read_csv('data/strawberry_samples_big.csv', index_col=0)\n",
    "val_data = pd.read_csv('data/strawberry_val_dataset.csv', index_col=0)\n",
    "data"
   ]
  },
  {
   "cell_type": "code",
   "execution_count": 4,
   "metadata": {},
   "outputs": [
    {
     "data": {
      "text/plain": [
       "Index(['OVERALL LIKING', 'TEXTURE LIKING', 'SWEETNESS INTENSITY',\n",
       "       'SOURNESS INTENSITY', 'STRAWBERRY FLAVOR INTENSITY'],\n",
       "      dtype='object')"
      ]
     },
     "execution_count": 4,
     "metadata": {},
     "output_type": "execute_result"
    }
   ],
   "source": [
    "target_cols = data.columns[:5]\n",
    "target_cols"
   ]
  },
  {
   "cell_type": "code",
   "execution_count": 5,
   "metadata": {},
   "outputs": [
    {
     "data": {
      "text/plain": [
       "Index(['6915-15-7', '77-92-9', '50-99-7', '57-48-7', '57-50-1', 'SSC', 'pH',\n",
       "       'TA', '75-85-4 ', '616-25-1 ', '1629-58-9 ', '96-22-0 ', '110-62-3 ',\n",
       "       '1534-08-3 ', '105-37-3', '109-60-4 ', '623-42-7 ', '591-78-6 ',\n",
       "       '108-10-1 ', '1576-87-0 ', '1576-86-9 ', '623-43-8 ', '71-41-0',\n",
       "       '1576-95-0 ', '556-24-1 ', '589-38-8 ', '105-54-4 ', '66-25-1 ',\n",
       "       '123-86-4 ', '624-24-8 ', '29674-47-3 ', '96-04-8 ', '638-11-9 ',\n",
       "       '116-53-0 ', '7452-79-1 ', '6728-26-3 ', '928-95-0 ', '111-27-3 ',\n",
       "       '123-92-2 ', '624-41-9 ', '110-43-0', '2432-51-1 ', '105-66-8 ',\n",
       "       '539-82-2 ', '111-71-7 ', '628-63-7 ', '1191-16-8 ', '106-70-7 ',\n",
       "       '55514-48-2 ', '110-93-0 ', '109-21-7 ', '123-66-0 ', '124-13-0 ',\n",
       "       '142-92-7 ', '2497-18-9 ', '60415-61-4', '104-76-7 ', ' 2311-46-8 ',\n",
       "       '109-19-3 ', '2548-87-0 ', '540-18-1 ', '4077-47-8 ', '20664-46-4',\n",
       "       '821-55-6 ', '5989-33-3 ', '78-70-6 ', '124-19-6 ', '103-09-3',\n",
       "       '140-11-4 ', '2639-63-6 ', '53398-83-7 ', '106-32-1 ', '112-14-1 ',\n",
       "       '564-94-3 ', '3913-81-3 ', '134-20-3 ', '110-39-4 ', '110-38-3 ',\n",
       "       '29811-50-5 ', '7786-58-5 ', '15111-96-3 ', '706-14-9 ', '10522-34-6 ',\n",
       "       '5881-17-4 ', '128-37-0', '40716-66-3 ', '4887-30-3 ', '5454-09-1 ',\n",
       "       '2305-05-7'],\n",
       "      dtype='object')"
      ]
     },
     "execution_count": 5,
     "metadata": {},
     "output_type": "execute_result"
    }
   ],
   "source": [
    "feature_cols = data.columns[5:]\n",
    "feature_cols"
   ]
  },
  {
   "cell_type": "code",
   "execution_count": 6,
   "metadata": {},
   "outputs": [
    {
     "name": "stdout",
     "output_type": "stream",
     "text": [
      "(54000, 89)\n",
      "(54000, 5)\n"
     ]
    }
   ],
   "source": [
    "features = data[feature_cols].values\n",
    "labels = data[target_cols].values\n",
    "val_features = val_data[feature_cols].values\n",
    "val_labels = val_data[target_cols].values\n",
    "print(features.shape)\n",
    "print(labels.shape)"
   ]
  },
  {
   "cell_type": "code",
   "execution_count": 7,
   "metadata": {},
   "outputs": [
    {
     "data": {
      "text/plain": [
       "((38000, 89), (38000, 5), (16, 89), (16, 5))"
      ]
     },
     "execution_count": 7,
     "metadata": {},
     "output_type": "execute_result"
    }
   ],
   "source": [
    "NUM_SAMPLE_TYPES = 54\n",
    "NUM_SAMPLES_PER_TYPE = len(data) // NUM_SAMPLE_TYPES\n",
    "TEST_SIZE = 0.3\n",
    "train_X = features[int(NUM_SAMPLE_TYPES*TEST_SIZE)*NUM_SAMPLES_PER_TYPE:]\n",
    "train_y = labels[int(NUM_SAMPLE_TYPES*TEST_SIZE)*NUM_SAMPLES_PER_TYPE:]\n",
    "val_X = val_features[:int(NUM_SAMPLE_TYPES*TEST_SIZE)]\n",
    "val_y = val_labels[:int(NUM_SAMPLE_TYPES*TEST_SIZE)]\n",
    "\n",
    "train_X.shape, train_y.shape, val_X.shape, val_y.shape"
   ]
  },
  {
   "cell_type": "code",
   "execution_count": 8,
   "metadata": {},
   "outputs": [],
   "source": [
    "import torch\n",
    "import torch.nn as nn\n",
    "from torch.utils.data import Dataset\n",
    "\n",
    "from hypll import nn as hnn\n",
    "from hypll.tensors import TangentTensor\n",
    "\n",
    "# Define your MLP model\n",
    "class MLP(nn.Module):\n",
    "    def __init__(self, input_size, output_size, layer_size, num_hidden_layers, manifold):\n",
    "        super(MLP, self).__init__()\n",
    "        torch.manual_seed(consts.TORCH_MANUAL_SEED)\n",
    "        self.fc_in = hnn.HLinear(input_size, layer_size, manifold=manifold)\n",
    "        self.relu = hnn.HReLU(manifold=manifold)\n",
    "        self.hidden_fcs = nn.ModuleList([hnn.HLinear(layer_size, layer_size, manifold=manifold) for _ in range(num_hidden_layers)])\n",
    "        self.fc_out = hnn.HLinear(layer_size, output_size, manifold=manifold)\n",
    "\n",
    "    def forward(self, x):\n",
    "        x = self.fc_in(x)\n",
    "        x = self.relu(x)\n",
    "        for fc in self.hidden_fcs:\n",
    "            x = fc(x)\n",
    "            x = self.relu(x)\n",
    "        x = self.fc_out(x)\n",
    "\n",
    "        return x\n",
    "\n",
    "# Define custom PyTorch dataset\n",
    "class CustomDataset(Dataset):\n",
    "    def __init__(self, features, labels):\n",
    "        self.features = torch.tensor(features, dtype=torch.float32)\n",
    "        self.labels = torch.tensor(labels, dtype=torch.float32)\n",
    "\n",
    "    def __len__(self):\n",
    "        return len(self.features)\n",
    "\n",
    "    def __getitem__(self, idx):\n",
    "        return self.features[idx], self.labels[idx]\n",
    "\n",
    "# Define training function\n",
    "def train_model(model, train_loader, criterion, optimizer, manifold, device):\n",
    "    model.train()\n",
    "    running_loss = 0.0\n",
    "    for inputs, targets in train_loader:\n",
    "        inputs, targets = inputs.to(device), targets.to(device)\n",
    "\n",
    "        optimizer.zero_grad()\n",
    "\n",
    "        tangents = TangentTensor(data=inputs, man_dim=-1, manifold=manifold)\n",
    "        manifold_inputs = manifold.expmap(tangents)\n",
    "\n",
    "        outputs = model(manifold_inputs)\n",
    "\n",
    "        loss = criterion(outputs.tensor, targets)\n",
    "        loss.backward()\n",
    "        optimizer.step()\n",
    "        running_loss += loss.item() * inputs.size(0)\n",
    "    return running_loss / len(train_loader.dataset)\n",
    "\n",
    "\n",
    "def do_prediction(model, inputs, manifold, device):\n",
    "    inputs = inputs.float().to(device)\n",
    "    tangents = TangentTensor(data=inputs.to(device), man_dim=-1, manifold=manifold)\n",
    "    manifold_inputs = manifold.expmap(tangents)\n",
    "\n",
    "    outputs = model(manifold_inputs)\n",
    "\n",
    "    return outputs"
   ]
  },
  {
   "cell_type": "code",
   "execution_count": 157,
   "metadata": {},
   "outputs": [],
   "source": [
    "num_hidden_layers = 28\n",
    "layer_size = 96\n",
    "lr = 0.001\n",
    "weight_decay = 0.005\n",
    "batch_size = 64\n",
    "epochs = 1\n",
    "curvature  = -1"
   ]
  },
  {
   "cell_type": "code",
   "execution_count": 158,
   "metadata": {},
   "outputs": [
    {
     "data": {
      "application/vnd.jupyter.widget-view+json": {
       "model_id": "54a8aad0b74f4e49bde033341a3f3ec6",
       "version_major": 2,
       "version_minor": 0
      },
      "text/plain": [
       "Epoch:   0%|          | 0/1 [00:00<?, ?it/s]"
      ]
     },
     "metadata": {},
     "output_type": "display_data"
    },
    {
     "name": "stdout",
     "output_type": "stream",
     "text": [
      "Epoch 1/1, Train Loss: 0.0089, Val Loss: 0.0017\n"
     ]
    }
   ],
   "source": [
    "from hypll.optim import RiemannianAdam\n",
    "from hypll.manifolds.poincare_ball import Curvature, PoincareBall\n",
    "from torch.utils.data import DataLoader\n",
    "from tqdm.notebook import tqdm\n",
    "\n",
    "device = torch.device(\"cuda\" if torch.cuda.is_available() else \"cpu\")\n",
    "\n",
    "manifold = PoincareBall(c=Curvature(curvature))\n",
    "\n",
    "# Create DataLoader for training and validation\n",
    "train_dataset = CustomDataset(train_X, train_y)\n",
    "val_dataset = CustomDataset(val_X, val_y)\n",
    "train_loader = DataLoader(train_dataset, batch_size=batch_size, shuffle=True)\n",
    "val_loader = DataLoader(val_dataset, batch_size=batch_size)\n",
    "\n",
    "# Initialize model, criterion, and optimizer\n",
    "model = MLP(input_size=len(feature_cols), output_size=len(target_cols), layer_size=layer_size, num_hidden_layers=num_hidden_layers, manifold=manifold).to(device)\n",
    "\n",
    "criterion = nn.MSELoss()\n",
    "\n",
    "optimizer = RiemannianAdam(model.parameters(), lr=lr, weight_decay=weight_decay)\n",
    "\n",
    "eval_stats = {'loss': {'train': [], 'val': []}, 'mae': {'train': [], 'val': []}}\n",
    "\n",
    "for epoch in tqdm(range(epochs), desc=\"Epoch\"):\n",
    "    eval_stats['loss']['train'].append(train_model(model, train_loader, criterion, optimizer, manifold, device))\n",
    "    eval_stats['loss']['val'].append(util.h_evaluate_loss(model, val_loader, criterion, manifold, device))\n",
    "\n",
    "    eval_stats['mae']['train'].append(util.h_evaluate_mae(model, train_loader, manifold, device))\n",
    "    eval_stats['mae']['val'].append(util.h_evaluate_mae(model, val_loader, manifold, device))\n",
    "\n",
    "    print(f\"Epoch {epoch + 1}/{epochs}, Train Loss: {eval_stats['loss']['train'][-1]:.4f}, Val Loss: {eval_stats['loss']['val'][-1]:.4f}\")\n"
   ]
  },
  {
   "cell_type": "code",
   "execution_count": 159,
   "metadata": {},
   "outputs": [
    {
     "data": {
      "image/png": "[encoded data removed]",
      "text/plain": [
       "<Figure size 1000x500 with 1 Axes>"
      ]
     },
     "metadata": {},
     "output_type": "display_data"
    }
   ],
   "source": [
    "import matplotlib.pyplot as plt\n",
    "\n",
    "# Plotting\n",
    "plt.figure(figsize=(10, 5))\n",
    "plt.plot(range(epochs), eval_stats['loss']['train'], label=f'Train Loss')\n",
    "plt.plot(range(epochs), eval_stats['loss']['val'], label=f'Val Loss', linestyle='--')\n",
    "plt.title('Training and Validation Loss')\n",
    "plt.xlabel('Epoch')\n",
    "plt.ylabel('Loss')\n",
    "plt.legend()\n",
    "plt.grid(True)\n",
    "# plt.yscale('log')\n",
    "plt.show()"
   ]
  },
  {
   "cell_type": "code",
   "execution_count": 160,
   "metadata": {},
   "outputs": [
    {
     "data": {
      "image/png": "[encoded data removed]",
      "text/plain": [
       "<Figure size 1000x500 with 1 Axes>"
      ]
     },
     "metadata": {},
     "output_type": "display_data"
    }
   ],
   "source": [
    "import matplotlib.pyplot as plt\n",
    "\n",
    "# Plotting\n",
    "plt.figure(figsize=(10, 5))\n",
    "plt.plot(range(epochs), eval_stats['mae']['train'], label=f'Train MAE')\n",
    "plt.plot(range(epochs), eval_stats['mae']['val'], label=f'Val MAE', linestyle='--')\n",
    "plt.title('Training and Validation MAE')\n",
    "plt.xlabel('Epoch')\n",
    "plt.ylabel('MAE')\n",
    "plt.legend()\n",
    "plt.grid(True)\n",
    "# plt.yscale('log')\n",
    "plt.show()"
   ]
  },
  {
   "cell_type": "code",
   "execution_count": 161,
   "metadata": {},
   "outputs": [
    {
     "data": {
      "text/plain": [
       "array([[0.22828248, 0.23201339, 0.22334439, 0.17932232, 0.2620874 ],\n",
       "       [0.23048656, 0.23451138, 0.2255655 , 0.18170619, 0.2644357 ],\n",
       "       [0.2830129 , 0.28720698, 0.2727536 , 0.2181941 , 0.31900007],\n",
       "       [0.19212107, 0.19752371, 0.18919878, 0.15198663, 0.2222291 ],\n",
       "       [0.27358702, 0.27837795, 0.26461542, 0.21189259, 0.30976447],\n",
       "       [0.23813885, 0.24136885, 0.23203436, 0.18527167, 0.27193117],\n",
       "       [0.26041967, 0.26426   , 0.25281337, 0.20245093, 0.2960988 ],\n",
       "       [0.27437556, 0.2782143 , 0.26502982, 0.21189427, 0.31011796],\n",
       "       [0.25205368, 0.2552739 , 0.24406298, 0.19404484, 0.28537372],\n",
       "       [0.24558306, 0.24985613, 0.23908985, 0.19122355, 0.28011417],\n",
       "       [0.23854375, 0.24270369, 0.23272309, 0.18685526, 0.2730944 ],\n",
       "       [0.18268348, 0.18839441, 0.18033147, 0.14575334, 0.21248128],\n",
       "       [0.23302591, 0.2378008 , 0.22741418, 0.18236135, 0.26673564],\n",
       "       [0.2029242 , 0.20954587, 0.19905904, 0.15944715, 0.2338111 ],\n",
       "       [0.20108815, 0.20760101, 0.19766517, 0.15892759, 0.2324934 ],\n",
       "       [0.2140524 , 0.2206824 , 0.20941894, 0.16761531, 0.24586219]],\n",
       "      dtype=float32)"
      ]
     },
     "execution_count": 161,
     "metadata": {},
     "output_type": "execute_result"
    }
   ],
   "source": [
    "preds = do_prediction(model, torch.tensor(val_X), manifold, device).tensor.detach().numpy()\n",
    "preds"
   ]
  },
  {
   "cell_type": "code",
   "execution_count": 162,
   "metadata": {},
   "outputs": [
    {
     "data": {
      "text/plain": [
       "array([[0.3075, 0.2489, 0.2772, 0.1468, 0.3058],\n",
       "       [0.2634, 0.2639, 0.2366, 0.2124, 0.3005],\n",
       "       [0.361 , 0.3571, 0.3034, 0.1787, 0.2427],\n",
       "       [0.2249, 0.13  , 0.2758, 0.1587, 0.2861],\n",
       "       [0.282 , 0.3039, 0.2457, 0.1839, 0.2827],\n",
       "       [0.3185, 0.2461, 0.3101, 0.1727, 0.3348],\n",
       "       [0.2776, 0.2773, 0.2476, 0.1907, 0.295 ],\n",
       "       [0.3108, 0.2673, 0.2935, 0.1571, 0.322 ],\n",
       "       [0.2877, 0.2763, 0.251 , 0.1723, 0.2809],\n",
       "       [0.2605, 0.256 , 0.2068, 0.1946, 0.254 ],\n",
       "       [0.213 , 0.1469, 0.2222, 0.1951, 0.2779],\n",
       "       [0.1406, 0.1395, 0.1616, 0.1977, 0.2341],\n",
       "       [0.2031, 0.2385, 0.1851, 0.1899, 0.2358],\n",
       "       [0.2842, 0.2832, 0.2487, 0.1539, 0.2718],\n",
       "       [0.2499, 0.2648, 0.226 , 0.2123, 0.2937],\n",
       "       [0.2098, 0.2683, 0.1983, 0.1869, 0.2558]])"
      ]
     },
     "execution_count": 162,
     "metadata": {},
     "output_type": "execute_result"
    }
   ],
   "source": [
    "val_y"
   ]
  },
  {
   "cell_type": "code",
   "execution_count": 156,
   "metadata": {},
   "outputs": [
    {
     "data": {
      "text/plain": [
       "[0.042868547,\n",
       " 0.04573046,\n",
       " 0.046332844,\n",
       " 0.05102285,\n",
       " 0.043978017,\n",
       " 0.03837686,\n",
       " 0.035376877]"
      ]
     },
     "execution_count": 156,
     "metadata": {},
     "output_type": "execute_result"
    }
   ],
   "source": [
    "eval_stats['mae']['val']"
   ]
  },
  {
   "cell_type": "markdown",
   "metadata": {},
   "source": [
    "num_hidden_layers = 10\n",
    "layer_size = 512\n",
    "lr = 0.001\n",
    "weight_decay = 0.005\n",
    "batch_size = 64\n",
    "epochs = 5\n",
    "curvature  = -1\n",
    "\n",
    "0.035376877"
   ]
  },
  {
   "cell_type": "code",
   "execution_count": 154,
   "metadata": {},
   "outputs": [
    {
     "data": {
      "text/plain": [
       "3.5376857743263237"
      ]
     },
     "execution_count": 154,
     "metadata": {},
     "output_type": "execute_result"
    }
   ],
   "source": [
    "np.abs((preds * 100) - (val_y * 100)).mean()"
   ]
  },
  {
   "cell_type": "code",
   "execution_count": 145,
   "metadata": {},
   "outputs": [
    {
     "data": {
      "text/plain": [
       "array([0.23429231, 0.24002053, 0.22963977, 0.18468225, 0.26923397],\n",
       "      dtype=float32)"
      ]
     },
     "execution_count": 145,
     "metadata": {},
     "output_type": "execute_result"
    }
   ],
   "source": [
    "(preds + 0.008).mean(axis=0)"
   ]
  },
  {
   "cell_type": "code",
   "execution_count": null,
   "metadata": {},
   "outputs": [],
   "source": [
    "[0.22660425, 0.22904035, 0.2234691 , 0.17611241, 0.26152515]"
   ]
  }
 ],
 "metadata": {
  "kernelspec": {
   "display_name": "Python 3",
   "language": "python",
   "name": "python3"
  },
  "language_info": {
   "codemirror_mode": {
    "name": "ipython",
    "version": 3
   },
   "file_extension": ".py",
   "mimetype": "text/x-python",
   "name": "python",
   "nbconvert_exporter": "python",
   "pygments_lexer": "ipython3",
   "version": "3.11.1"
  }
 },
 "nbformat": 4,
 "nbformat_minor": 2
}
