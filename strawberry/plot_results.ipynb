{
 "cells": [
  {
   "cell_type": "code",
   "execution_count": 2,
   "metadata": {},
   "outputs": [],
   "source": [
    "import numpy as np\n",
    "import pandas as pd\n",
    "\n",
    "import matplotlib.pyplot as plt\n",
    "from matplotlib.colors import Normalize\n",
    "from matplotlib import cm\n",
    "from matplotlib.tri import Triangulation\n",
    "\n",
    "import ast"
   ]
  },
  {
   "cell_type": "code",
   "execution_count": 3,
   "metadata": {},
   "outputs": [],
   "source": [
    "def parse_results(file_name):\n",
    "    grid_search_results = []\n",
    "    with open(file_name, 'r') as file:\n",
    "        for line in file.readlines():\n",
    "            if line[0:4] == '----':\n",
    "                grid_search_results.append([])\n",
    "                continue\n",
    "\n",
    "            if line[0] == '(':\n",
    "                fixed_line = '[' + line.strip().replace(') (', '), (') + ']'\n",
    "                params = ast.literal_eval(fixed_line)\n",
    "                nested = [list(zip(key.split(','), np.array(val).flatten())) for (key, val) in params]\n",
    "                unnested = [item for sublist in nested for item in sublist]\n",
    "                grid_search_results[-1].append({key: val for (key, val) in unnested})\n",
    "                grid_search_results[-1].append([])\n",
    "                continue\n",
    "\n",
    "            result = line\n",
    "\n",
    "            if result[0] == '[':\n",
    "                grid_search_results[-1][-1].append(ast.literal_eval(result))\n",
    "                continue\n",
    "\n",
    "    grid_search_results = [(params, np.array(values)) for params, values in grid_search_results]\n",
    "    return grid_search_results"
   ]
  },
  {
   "cell_type": "code",
   "execution_count": 245,
   "metadata": {},
   "outputs": [],
   "source": [
    "# both_res = parse_results('grid_search_results/hyp_wide_100.txt')\n",
    "# hyp_res = both_res[:len(both_res)//2]\n",
    "# euc_res = both_res[len(both_res)//2:]\n",
    "# hyp_res = both_res\n",
    "# euc_res = both_res\n",
    "hyp_res = parse_results('grid_search_results/hyp_small_2000.txt')[0::2]\n",
    "euc_res = parse_results('grid_search_results/hyp_small_2000.txt')[1::2]"
   ]
  },
  {
   "cell_type": "code",
   "execution_count": 246,
   "metadata": {},
   "outputs": [
    {
     "data": {
      "text/plain": [
       "((6, 3, 2000), (6, 3, 2000))"
      ]
     },
     "execution_count": 246,
     "metadata": {},
     "output_type": "execute_result"
    }
   ],
   "source": [
    "hyp_params = np.array([p for p, _ in hyp_res])\n",
    "hyp_values = np.array([v for _, v in hyp_res])\n",
    "\n",
    "euc_params = np.array([p for p, _ in euc_res])\n",
    "euc_values = np.array([v for _, v in euc_res])\n",
    "\n",
    "hyp_values.shape, euc_values.shape"
   ]
  },
  {
   "cell_type": "code",
   "execution_count": 247,
   "metadata": {},
   "outputs": [],
   "source": [
    "IN_SIZE = 89\n",
    "OUT_SIZE = 1\n",
    "\n",
    "NUM_HIDDEN_LAYERS = sorted(list(set([p['num_hidden_layers'] for p in hyp_params]).union(set([p['num_hidden_layers'] for p in euc_params]))))\n",
    "LAYER_SIZE = sorted(list(set([p['layer_size'] for p in hyp_params]).union(set([p['layer_size'] for p in euc_params]))))\n",
    "LR = sorted(list(set([p['lr'] for p in hyp_params]).union(set([p['lr'] for p in euc_params]))))\n",
    "WD = sorted(list(set([p['weight_decay'] for p in hyp_params]).union(set([p['weight_decay'] for p in euc_params]))))"
   ]
  },
  {
   "cell_type": "code",
   "execution_count": 248,
   "metadata": {},
   "outputs": [
    {
     "name": "stdout",
     "output_type": "stream",
     "text": [
      "[4]\n",
      "[32, 48, 64]\n",
      "[0.01, 0.02]\n",
      "[0.004, 0.006]\n"
     ]
    }
   ],
   "source": [
    "print(NUM_HIDDEN_LAYERS)\n",
    "print(LAYER_SIZE)\n",
    "print(LR)\n",
    "print(WD)"
   ]
  },
  {
   "cell_type": "code",
   "execution_count": 249,
   "metadata": {},
   "outputs": [],
   "source": [
    "num_hidden_layers = np.array(NUM_HIDDEN_LAYERS).repeat(len(LAYER_SIZE))\n",
    "layer_size = np.tile(LAYER_SIZE, len(NUM_HIDDEN_LAYERS))\n",
    "\n",
    "naive_sizes = (num_hidden_layers * layer_size**2).flatten()\n",
    "real_sizes = (num_hidden_layers * layer_size**2).flatten() + ((np.zeros_like(num_hidden_layers) + (IN_SIZE+OUT_SIZE))*layer_size).flatten()"
   ]
  },
  {
   "cell_type": "code",
   "execution_count": 250,
   "metadata": {},
   "outputs": [
    {
     "data": {
      "text/plain": [
       "(array([4, 4, 4]), array([32, 48, 64]))"
      ]
     },
     "execution_count": 250,
     "metadata": {},
     "output_type": "execute_result"
    }
   ],
   "source": [
    "num_hidden_layers, layer_size"
   ]
  },
  {
   "cell_type": "code",
   "execution_count": 251,
   "metadata": {},
   "outputs": [
    {
     "name": "stdout",
     "output_type": "stream",
     "text": [
      "-1.3774102037045917 -1.3730379073805257\n",
      "-1.1281756783841048 -1.1849804639628274\n"
     ]
    },
    {
     "ename": "RuntimeError",
     "evalue": "Error in qhull Delaunay triangulation calculation: input inconsistency (exitcode=1); use python verbose option (-v) to see original qhull error.",
     "output_type": "error",
     "traceback": [
      "\u001b[1;31m---------------------------------------------------------------------------\u001b[0m",
      "\u001b[1;31mRuntimeError\u001b[0m                              Traceback (most recent call last)",
      "Cell \u001b[1;32mIn[251], line 18\u001b[0m\n\u001b[0;32m     15\u001b[0m num_hidden_layers_adjust \u001b[38;5;241m=\u001b[39m num_hidden_layers\u001b[38;5;241m.\u001b[39mastype(\u001b[38;5;28mfloat\u001b[39m)\n\u001b[0;32m     16\u001b[0m num_hidden_layers_adjust[num_hidden_layers_adjust \u001b[38;5;241m==\u001b[39m \u001b[38;5;241m0\u001b[39m] \u001b[38;5;241m=\u001b[39m \u001b[38;5;241m0.5\u001b[39m\n\u001b[1;32m---> 18\u001b[0m mesh \u001b[38;5;241m=\u001b[39m \u001b[43mTriangulation\u001b[49m\u001b[43m(\u001b[49m\u001b[43mnum_hidden_layers_adjust\u001b[49m\u001b[43m,\u001b[49m\u001b[43m \u001b[49m\u001b[43mlayer_size\u001b[49m\u001b[43m)\u001b[49m  \u001b[38;5;66;03m#create tri mesh\u001b[39;00m\n\u001b[0;32m     21\u001b[0m plt\u001b[38;5;241m.\u001b[39mfigure(figsize\u001b[38;5;241m=\u001b[39m(\u001b[38;5;241m15\u001b[39m,\u001b[38;5;241m8\u001b[39m))\n\u001b[0;32m     22\u001b[0m plt\u001b[38;5;241m.\u001b[39msuptitle(\u001b[38;5;124mf\u001b[39m\u001b[38;5;124m'\u001b[39m\u001b[38;5;124mHyperbolic     |lr = \u001b[39m\u001b[38;5;132;01m{\u001b[39;00mlr\u001b[38;5;132;01m}\u001b[39;00m\u001b[38;5;124m|     Euclidean\u001b[39m\u001b[38;5;124m'\u001b[39m, fontsize\u001b[38;5;241m=\u001b[39m\u001b[38;5;241m16\u001b[39m, y\u001b[38;5;241m=\u001b[39m\u001b[38;5;241m1\u001b[39m)\n",
      "File \u001b[1;32mc:\\Users\\roryd\\AppData\\Local\\Programs\\Python\\Python312\\Lib\\site-packages\\matplotlib\\tri\\_triangulation.py:60\u001b[0m, in \u001b[0;36mTriangulation.__init__\u001b[1;34m(self, x, y, triangles, mask)\u001b[0m\n\u001b[0;32m     55\u001b[0m \u001b[38;5;28mself\u001b[39m\u001b[38;5;241m.\u001b[39mis_delaunay \u001b[38;5;241m=\u001b[39m \u001b[38;5;28;01mFalse\u001b[39;00m\n\u001b[0;32m     57\u001b[0m \u001b[38;5;28;01mif\u001b[39;00m triangles \u001b[38;5;129;01mis\u001b[39;00m \u001b[38;5;28;01mNone\u001b[39;00m:\n\u001b[0;32m     58\u001b[0m     \u001b[38;5;66;03m# No triangulation specified, so use matplotlib._qhull to obtain\u001b[39;00m\n\u001b[0;32m     59\u001b[0m     \u001b[38;5;66;03m# Delaunay triangulation.\u001b[39;00m\n\u001b[1;32m---> 60\u001b[0m     \u001b[38;5;28mself\u001b[39m\u001b[38;5;241m.\u001b[39mtriangles, \u001b[38;5;28mself\u001b[39m\u001b[38;5;241m.\u001b[39m_neighbors \u001b[38;5;241m=\u001b[39m \u001b[43m_qhull\u001b[49m\u001b[38;5;241;43m.\u001b[39;49m\u001b[43mdelaunay\u001b[49m\u001b[43m(\u001b[49m\u001b[43mx\u001b[49m\u001b[43m,\u001b[49m\u001b[43m \u001b[49m\u001b[43my\u001b[49m\u001b[43m,\u001b[49m\u001b[43m \u001b[49m\u001b[43msys\u001b[49m\u001b[38;5;241;43m.\u001b[39;49m\u001b[43mflags\u001b[49m\u001b[38;5;241;43m.\u001b[39;49m\u001b[43mverbose\u001b[49m\u001b[43m)\u001b[49m\n\u001b[0;32m     61\u001b[0m     \u001b[38;5;28mself\u001b[39m\u001b[38;5;241m.\u001b[39mis_delaunay \u001b[38;5;241m=\u001b[39m \u001b[38;5;28;01mTrue\u001b[39;00m\n\u001b[0;32m     62\u001b[0m \u001b[38;5;28;01melse\u001b[39;00m:\n\u001b[0;32m     63\u001b[0m     \u001b[38;5;66;03m# Triangulation specified. Copy, since we may correct triangle\u001b[39;00m\n\u001b[0;32m     64\u001b[0m     \u001b[38;5;66;03m# orientation.\u001b[39;00m\n",
      "\u001b[1;31mRuntimeError\u001b[0m: Error in qhull Delaunay triangulation calculation: input inconsistency (exitcode=1); use python verbose option (-v) to see original qhull error."
     ]
    }
   ],
   "source": [
    "for i, lr in enumerate(LR):\n",
    "    hyp_data = np.log10(hyp_values.mean(axis=1)[:,100].reshape(-1,len(LR))[:,i])\n",
    "    euc_data = np.log10(euc_values.mean(axis=1)[:,100].reshape(-1,len(LR))[:,i])\n",
    "    \n",
    "    min_val = min(np.min(hyp_data), np.min(euc_data))\n",
    "    max_val = max(np.max(hyp_data), np.max(euc_data))\n",
    "\n",
    "    print(np.min(hyp_data), np.min(euc_data))\n",
    "    print(np.max(hyp_data), np.max(euc_data))\n",
    "\n",
    "    cmap = plt.cm.viridis\n",
    "    norm = Normalize(vmin=min_val, vmax=max_val)\n",
    "\n",
    "\n",
    "    num_hidden_layers_adjust = num_hidden_layers.astype(float)\n",
    "    num_hidden_layers_adjust[num_hidden_layers_adjust == 0] = 0.5\n",
    "\n",
    "    mesh = Triangulation(num_hidden_layers_adjust, layer_size)  #create tri mesh\n",
    "\n",
    "\n",
    "    plt.figure(figsize=(15,8))\n",
    "    plt.suptitle(f'Hyperbolic     |lr = {lr}|     Euclidean', fontsize=16, y=1)\n",
    "\n",
    "    plt.subplot(121)\n",
    "    plt.tricontourf(mesh, hyp_data, levels=40, cmap=cmap, norm=norm, alpha=0.75)\n",
    "    plt.scatter(num_hidden_layers_adjust, layer_size, c=hyp_data, cmap=cmap, norm=norm)\n",
    "\n",
    "    plt.title(f'Hyperbolic\\nBest={np.min(hyp_data):.3f} => MAE={np.power(10, np.min(hyp_data)):.5f}')\n",
    "    plt.xlabel('Num Hidden Layers')\n",
    "    plt.ylabel('Layer Size')\n",
    "\n",
    "    plt.xscale('log', base=2)\n",
    "    plt.yscale('log', base=2)\n",
    "\n",
    "\n",
    "    plt.subplot(122)\n",
    "    euc_contourf = plt.tricontourf(mesh, euc_data, levels=40, cmap=cmap, norm=norm, alpha=0.75)\n",
    "    euc_scatter = plt.scatter(num_hidden_layers_adjust, layer_size, c=euc_data, cmap=cmap, norm=norm)\n",
    "    plt.colorbar(euc_scatter, label='Log10 MAE')\n",
    "\n",
    "\n",
    "    plt.title(f'Euclidean\\nBest={np.min(euc_data):.3} => MAE={np.power(10, np.min(euc_data)):.5f}')\n",
    "    plt.xlabel('Num Hidden Layers')\n",
    "    plt.ylabel('Layer Size')\n",
    "\n",
    "    plt.xscale('log', base=2)\n",
    "    plt.yscale('log', base=2)\n",
    "\n",
    "    plt.tight_layout()\n",
    "    plt.show()"
   ]
  },
  {
   "cell_type": "markdown",
   "metadata": {},
   "source": [
    "<h3>Best Runs:</h3>\n",
    "Checked every 100 epochs, bc taking the min epoch gives advantage to unstable training.\n",
    "\n",
    "Hyperbolic:  MAE = 0.035 (100 EPOCHS)\n",
    "- num-l:  4\n",
    "- size-l: 64\n",
    "- lr: 0.016\n",
    "- wd: 0.008\n",
    "\n",
    "Hyperbolic:  MAE = 0.034 (100 EPOCHS)\n",
    "- num-l:  4\n",
    "- size-l: 64\n",
    "- lr: 0.015\n",
    "- wd: 0.004\n",
    "\n",
    "Hyperbolic:  MAE = 0.033 (100 EPOCHS)\n",
    "- num-l:  4\n",
    "- size-l: 32\n",
    "- lr: 0.02\n",
    "- wd: 0.006\n",
    "\n",
    "Euclidean: MAE = 0.040 (100 EPOCHS)\n",
    "- num-l:  4\n",
    "- size-l: 512\n",
    "- lr: 0.016\n",
    "- wd: 0.004\n",
    "\n",
    "Euclidean: MAE = 0.037 (100 EPOCHS)\n",
    "- num-l:  4\n",
    "- size-l: 320\n",
    "- lr: 0.02\n",
    "- wd: 0.004"
   ]
  },
  {
   "cell_type": "code",
   "execution_count": 253,
   "metadata": {},
   "outputs": [
    {
     "name": "stdout",
     "output_type": "stream",
     "text": [
      "[0.04133843 0.03753119 0.04258143 0.03519074 0.03711598 0.03869922]\n",
      "[0.04165935 0.03511138 0.04355707 0.03363059 0.03714093 0.03678788]\n"
     ]
    }
   ],
   "source": [
    "print(hyp_values.mean(axis=1).min(axis=1))\n",
    "print(euc_values.mean(axis=1).min(axis=1))"
   ]
  },
  {
   "cell_type": "code",
   "execution_count": 254,
   "metadata": {},
   "outputs": [
    {
     "data": {
      "image/png": "[encoded data removed]",
      "text/plain": [
       "<Figure size 640x480 with 1 Axes>"
      ]
     },
     "metadata": {},
     "output_type": "display_data"
    }
   ],
   "source": [
    "# hyp_min = (0, 1, -1)\n",
    "# euc_min = (0, 1, -1)\n",
    "# for i in range(28):\n",
    "#     plt.plot(hyp_values.mean(axis=1)[i])\n",
    "#     plt.plot(euc_values.mean(axis=1)[i])\n",
    "\n",
    "#     print(i)\n",
    "#     print(hyp_values.mean(axis=1)[i].min(), hyp_values.mean(axis=1)[i].argmin())\n",
    "#     print(euc_values.mean(axis=1)[i].min(), euc_values.mean(axis=1)[i].argmin())\n",
    "\n",
    "#     if hyp_values.mean(axis=1)[i].min() < hyp_min[1]:\n",
    "#         hyp_min = (i, hyp_values.mean(axis=1)[i].min(), hyp_values.mean(axis=1)[i].argmin())\n",
    "#     if euc_values.mean(axis=1)[i].min() < euc_min[1]:\n",
    "#         euc_min = (i, euc_values.mean(axis=1)[i].min(), euc_values.mean(axis=1)[i].argmin())\n",
    "\n",
    "\n",
    "\n",
    "for run in hyp_values.mean(axis=1):\n",
    "    plt.plot(run)\n",
    "    # plt.plot(run[20:])\n",
    "\n",
    "# plt.yscale('log')\n",
    "# plt.show()\n",
    "\n",
    "for run in euc_values.mean(axis=1):\n",
    "    plt.plot(run)\n",
    "    # plt.plot(run[20:])\n",
    "\n",
    "plt.title('Hyperbolic Strawberry')\n",
    "plt.ylabel('MAE')\n",
    "plt.xlabel('Epochs')\n",
    "\n",
    "plt.yscale('log')\n",
    "plt.show()\n"
   ]
  },
  {
   "cell_type": "code",
   "execution_count": 48,
   "metadata": {},
   "outputs": [
    {
     "data": {
      "text/plain": [
       "[9, 25, 41, 57, 73, 89, 105, 121, 137, 153, 169, 185, 201, 217, 233, 249]"
      ]
     },
     "execution_count": 48,
     "metadata": {},
     "output_type": "execute_result"
    }
   ],
   "source": [
    "list(range(256))[9::16]"
   ]
  },
  {
   "cell_type": "code",
   "execution_count": 29,
   "metadata": {},
   "outputs": [
    {
     "data": {
      "text/plain": [
       "(4, 100)"
      ]
     },
     "execution_count": 29,
     "metadata": {},
     "output_type": "execute_result"
    }
   ],
   "source": [
    "hyp_values[9::16].mean(axis=1).shape"
   ]
  },
  {
   "cell_type": "code",
   "execution_count": null,
   "metadata": {},
   "outputs": [],
   "source": []
  }
 ],
 "metadata": {
  "kernelspec": {
   "display_name": "Python 3",
   "language": "python",
   "name": "python3"
  },
  "language_info": {
   "codemirror_mode": {
    "name": "ipython",
    "version": 3
   },
   "file_extension": ".py",
   "mimetype": "text/x-python",
   "name": "python",
   "nbconvert_exporter": "python",
   "pygments_lexer": "ipython3",
   "version": "3.12.3"
  }
 },
 "nbformat": 4,
 "nbformat_minor": 2
}
